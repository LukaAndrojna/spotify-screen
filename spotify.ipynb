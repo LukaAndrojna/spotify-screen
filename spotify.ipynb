{
 "cells": [
  {
   "cell_type": "code",
   "execution_count": 1,
   "id": "7d1a864e-e83d-4c36-a8d7-79e996f32c2a",
   "metadata": {},
   "outputs": [],
   "source": [
    "%load_ext autoreload\n",
    "%autoreload 2"
   ]
  },
  {
   "cell_type": "code",
   "execution_count": 2,
   "id": "fcd713af-6bb4-447d-bdaf-6de92adfe89d",
   "metadata": {},
   "outputs": [],
   "source": [
    "import mysql.connector\n",
    "\n",
    "from models.spotifyconnector import SpotifyConnector\n",
    "from models.mysqlconnector import insert_history, insert_tracks, create_tables, delete_tables"
   ]
  },
  {
   "cell_type": "code",
   "execution_count": 3,
   "id": "1d5c7662-f3ed-4516-b853-44c1b140a31c",
   "metadata": {},
   "outputs": [],
   "source": [
    "sc = SpotifyConnector()"
   ]
  },
  {
   "cell_type": "code",
   "execution_count": 4,
   "id": "ffe44a27-f2ee-44f0-a3c9-61ed1c8b12c1",
   "metadata": {},
   "outputs": [],
   "source": [
    "recent_tracks = sc.recently_played()\n",
    "rt_list = list()\n",
    "for track in recent_tracks:\n",
    "    rt_list.append({\n",
    "        \"title\": track[\"track\"][\"name\"],\n",
    "        \"artists\": [artist[\"id\"] for artist in track[\"track\"][\"artists\"]],\n",
    "        \"duration\": track[\"track\"][\"duration_ms\"],\n",
    "        \"played_at\":track[\"played_at\"],\n",
    "        \"track_id\": track[\"track\"][\"id\"],\n",
    "    })"
   ]
  },
  {
   "cell_type": "markdown",
   "id": "a5ebd4b6-6904-40fd-834a-bba465c957f8",
   "metadata": {},
   "source": [
    "# MySQL part"
   ]
  },
  {
   "cell_type": "code",
   "execution_count": 5,
   "id": "bcde0ee4-608c-40bc-a1a1-bf0bdc7f90f9",
   "metadata": {},
   "outputs": [],
   "source": [
    "db = mysql.connector.connect(\n",
    "    host=\"localhost\",\n",
    "    user=\"andy\",\n",
    "    password=\"SpotifyGeslo123!\",\n",
    "    database=\"spotify\"\n",
    ")"
   ]
  },
  {
   "cell_type": "code",
   "execution_count": 6,
   "id": "ccce1b68-84d9-45fe-af93-8a5a831db455",
   "metadata": {},
   "outputs": [],
   "source": [
    "delete_tables(db)"
   ]
  },
  {
   "cell_type": "code",
   "execution_count": 7,
   "id": "5dd4a0b8-0a26-4518-acf0-f5a3b3679e0b",
   "metadata": {},
   "outputs": [],
   "source": [
    "create_tables(db)"
   ]
  },
  {
   "cell_type": "code",
   "execution_count": 8,
   "id": "e4875312-6d06-499b-833d-481d4f00f59f",
   "metadata": {},
   "outputs": [],
   "source": [
    "insert_history(db, rt_list)"
   ]
  },
  {
   "cell_type": "code",
   "execution_count": 9,
   "id": "f8f8a891-d13c-4723-8d4b-9a1e03cb2a93",
   "metadata": {},
   "outputs": [],
   "source": [
    "insert_tracks(sc, db, rt_list)"
   ]
  },
  {
   "cell_type": "code",
   "execution_count": null,
   "id": "ee1642c0-cc91-42d4-aa61-a3bf41632dd6",
   "metadata": {},
   "outputs": [],
   "source": []
  }
 ],
 "metadata": {
  "kernelspec": {
   "display_name": "spotify",
   "language": "python",
   "name": "spotify"
  },
  "language_info": {
   "codemirror_mode": {
    "name": "ipython",
    "version": 3
   },
   "file_extension": ".py",
   "mimetype": "text/x-python",
   "name": "python",
   "nbconvert_exporter": "python",
   "pygments_lexer": "ipython3",
   "version": "3.10.12"
  }
 },
 "nbformat": 4,
 "nbformat_minor": 5
}
