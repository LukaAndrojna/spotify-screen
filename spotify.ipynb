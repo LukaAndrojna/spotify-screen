{
 "cells": [
  {
   "cell_type": "code",
   "execution_count": 1,
   "id": "7d1a864e-e83d-4c36-a8d7-79e996f32c2a",
   "metadata": {},
   "outputs": [],
   "source": [
    "%load_ext autoreload\n",
    "%autoreload 2"
   ]
  },
  {
   "cell_type": "code",
   "execution_count": 3,
   "id": "fcd713af-6bb4-447d-bdaf-6de92adfe89d",
   "metadata": {},
   "outputs": [],
   "source": [
    "import datetime\n",
    "\n",
    "import mysql.connector\n",
    "\n",
    "from models.mysqlconnector import (\n",
    "    get_listening_minutes_daily, get_listening_minutes_weekly, get_top_artists_past_week, get_top_genres_past_week"
   ]
  },
  {
   "cell_type": "markdown",
   "id": "a5ebd4b6-6904-40fd-834a-bba465c957f8",
   "metadata": {},
   "source": [
    "# MySQL part"
   ]
  },
  {
   "cell_type": "code",
   "execution_count": 4,
   "id": "bcde0ee4-608c-40bc-a1a1-bf0bdc7f90f9",
   "metadata": {},
   "outputs": [],
   "source": [
    "db = mysql.connector.connect(\n",
    "    host=\"localhost\",\n",
    "    user=\"spotify\",\n",
    "    password=\"SpotifyGeslo123!\",\n",
    "    database=\"spotify\"\n",
    ")"
   ]
  },
  {
   "cell_type": "code",
   "execution_count": 5,
   "id": "39d6c31c",
   "metadata": {},
   "outputs": [],
   "source": [
    "days = {\n",
    "    0: \"mon\",\n",
    "    1: \"tue\",\n",
    "    2: \"wed\",\n",
    "    3: \"thu\",\n",
    "    4: \"fri\",\n",
    "    5: \"sat\",\n",
    "    6: \"sun\"\n",
    "}"
   ]
  },
  {
   "cell_type": "code",
   "execution_count": 13,
   "id": "ee1642c0-cc91-42d4-aa61-a3bf41632dd6",
   "metadata": {},
   "outputs": [],
   "source": [
    "weekly = get_listening_minutes_weekly(db)\n",
    "\n",
    "daily = get_listening_minutes_daily(db)\n",
    "daily_day = [days[row[0].weekday()] for row in daily]\n",
    "daily_minutes = [row[1] for row in daily]\n",
    "m = max(daily_minutes)\n",
    "daily_norm = [round(mins/m*18) for mins in daily_minutes]\n",
    "\n",
    "\n",
    "artists = [f\"\\n- {row[0]}\" for row in get_top_artists_past_week(db)]\n",
    "genres = [f\"\\n- {row[0]}\" for row in get_top_genres_past_week(db)]"
   ]
  },
  {
   "cell_type": "code",
   "execution_count": 14,
   "id": "dd7416a4",
   "metadata": {},
   "outputs": [
    {
     "name": "stdout",
     "output_type": "stream",
     "text": [
      "This weeks minutes: 1917\n",
      "fri: ******            \n",
      "sat: *********         \n",
      "sun:                   \n",
      "mon: ******************\n",
      "tue: *********         \n",
      "wed: *****             \n",
      "thu: ******************\n",
      "\n",
      "Top artists:\n",
      "- Emarosa\n",
      "- Foo Fighters\n",
      "- Dance Gavin Dance\n",
      "- Disturbed\n",
      "- Tilian\n",
      "\n",
      "Top genres:\n",
      "- lexington ky indie\n",
      "- permanent wave\n",
      "- sacramento indie\n",
      "- swancore\n",
      "- rap metal\n"
     ]
    }
   ],
   "source": [
    "print(f\"This weeks minutes: {weekly}\\n\"\n",
    "    + \"\\n\".join([f\"{day}: {i*'*' + (18-i)*' '}\" for day, i in zip(daily_day, daily_norm)])\n",
    "    + f\"\\n\\nTop artists:{''.join(artists)}\"\n",
    "    + f\"\\n\\nTop genres:{''.join(genres)}\")"
   ]
  },
  {
   "cell_type": "code",
   "execution_count": null,
   "id": "beec821b",
   "metadata": {},
   "outputs": [],
   "source": []
  }
 ],
 "metadata": {
  "kernelspec": {
   "display_name": "spotify",
   "language": "python",
   "name": "spotify"
  },
  "language_info": {
   "codemirror_mode": {
    "name": "ipython",
    "version": 3
   },
   "file_extension": ".py",
   "mimetype": "text/x-python",
   "name": "python",
   "nbconvert_exporter": "python",
   "pygments_lexer": "ipython3",
   "version": "3.11.2"
  }
 },
 "nbformat": 4,
 "nbformat_minor": 5
}
